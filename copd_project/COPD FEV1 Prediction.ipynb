{
 "cells": [
  {
   "cell_type": "code",
   "execution_count": null,
   "id": "9bc66c2f",
   "metadata": {},
   "outputs": [],
   "source": [
    "import numpy as np\n",
    "import pandas as pd\n",
    "import healthcareai as hai\n",
    "from sklearn.model_selection import train_test_split"
   ]
  },
  {
   "cell_type": "code",
   "execution_count": null,
   "id": "0674f89c",
   "metadata": {},
   "outputs": [],
   "source": [
    "df = pd.read_csv('./PFTResultsDatasetv2.csv')"
   ]
  },
  {
   "cell_type": "code",
   "execution_count": null,
   "id": "fa7978ef",
   "metadata": {
    "scrolled": true
   },
   "outputs": [],
   "source": [
    "\"\"\"\n",
    "      'TestTakenDTS'              # Same as VisitDate except with time. discarding for now\n",
    "    \n",
    "    , 'HeightInches'              # Information captured in BMI\n",
    "    , 'WeightLbs'                 # Information captured in BMI\n",
    "    \n",
    "    , 'AssumedPatientEncounterID' # ID column. no semantic significance\n",
    "    , 'PatientID'                 # ID column. no semantic significance\n",
    "    , 'PAT_DemId'                 # ID column. no semantic significance\n",
    "    , 'VISITINFO_ID'              # ID column. no semantic significance\n",
    "    , 'LEVEL_ID'                  # ID column. no semantic significance\n",
    "    , 'MEAS_Id'                   # ID column. no semantic significance\n",
    "    , 'SUBMEAS_Id'                # ID column. no semantic significance\n",
    "    \n",
    "    , 'IsCOPDFLG'                 # This based on the patient's problem list which is unreliable\n",
    "                                  # per problem documentation, patients were mistakenly diagnosed unless given a test\n",
    "    \n",
    "    , 'IsFEV1FVCUnder70FLG'       # Removing this feature because it is derived from the target column FEV1FVC_PRE\n",
    "\"\"\"\n",
    "\n",
    "col_exclude = [\n",
    "      'TestTakenDTS'\n",
    "    , 'HeightInches'\n",
    "    , 'WeightLbs'\n",
    "    , 'AssumedPatientEncounterID'\n",
    "    , 'PatientID'\n",
    "    , 'PAT_DemId'\n",
    "    , 'VISITINFO_ID'\n",
    "    , 'LEVEL_ID'\n",
    "    , 'MEAS_Id'\n",
    "    , 'SUBMEAS_Id'\n",
    "    , 'IsCOPDFLG'\n",
    "    , 'IsFEV1FVCUnder70FLG'\n",
    "]"
   ]
  },
  {
   "cell_type": "code",
   "execution_count": null,
   "id": "a6f985e8",
   "metadata": {},
   "outputs": [],
   "source": [
    "# return all columns exclude those listed in the exlcusion list\n",
    "copd = df.drop(col_exclude, axis=1) # alternate method = df.loc[:, ~df.columns.isin(col_exclude)]\n",
    "\n",
    "# this is done because the healthcareai package seems to not like \"Is\" in the column names and confuses it with python syntax\n",
    "alias = { \n",
    "      'IsChlamydialInfectionNBR' : 'ChlamydialInfectionNBR'\n",
    "    , 'IsDiabetesMellitusNBR' : 'DiabetesMellitusNBR'\n",
    "    , 'IsHeartFailureNBR' : 'HeartFailureNBR'\n",
    "    , 'IsUpperRespiratoryNBR' : 'UpperRespiratoryNBR'\n",
    "    , 'IsBronchitisNBR' : 'BronchitisNBR'\n",
    "    , 'IsCOPDNBR' : 'COPDNBR'\n",
    "    , 'IsAsthmaNBR' : 'AsthmaNBR'\n",
    "    , 'IsPneumoniaNBR' : 'PneumoniaNBR'\n",
    "    , 'IsCoughNBR' : 'CoughNBR'\n",
    "    , 'IsDyspneaNBR' : 'DyspneaNBR'\n",
    "    , 'IsRespiratorySymptomsNBR' : 'RespiratorySymptomsNBR'\n",
    "    , 'IsChestPainNBR' : 'ChestPainNBR'\n",
    "    , 'IsFatigueNBR' : 'FatigueNBR'\n",
    "    , 'IsSleepDisorderNBR' : 'SleepDisorderNBR'\n",
    "    , 'IsChlamydialInfectionFLG' : 'ChlamydialInfectionFLG'\n",
    "    , 'IsDiabetesMellitusFLG' : 'DiabetesMellitusFLG'\n",
    "    , 'IsHeartFailureFLG' : 'HeartFailureFLG'\n",
    "    , 'IsUpperRespiratoryFLG' : 'UpperRespiratoryFLG'\n",
    "    , 'IsBronchitisFLG' : 'BronchitisFLG'\n",
    "    , 'IsAsthmaFLG' : 'AsthmaFLG'\n",
    "    , 'IsPneumoniaFLG' : 'PneumoniaFLG'\n",
    "    , 'IsCoughFLG' : 'CoughFLG'\n",
    "    , 'IsDyspneaFLG' : 'DyspneaFLG'\n",
    "    , 'IsRespiratorySymptomsFLG' : 'RespiratorySymptomsFLG'\n",
    "    , 'IsChestPainFLG' : 'ChestPainFLG'\n",
    "    , 'IsFatigueFLG' : 'FatigueFLG'\n",
    "    , 'IsSleepDisorderFLG' : 'SleepDisorderFLG'\n",
    "    , 'IsTobaccoUserDSC' : 'TobaccoUserDSC'\n",
    "    , 'IsMaleFLG' : 'MaleFLG'      \n",
    "}\n",
    "\n",
    "copd.rename(columns=alias, inplace=True)"
   ]
  },
  {
   "cell_type": "code",
   "execution_count": null,
   "id": "77fc0074",
   "metadata": {},
   "outputs": [],
   "source": [
    "# create function to round float to integer if not NaN\n",
    "def round_nan(number):\n",
    "    if not np.isnan(number):\n",
    "        return round(number)\n",
    "    return number        "
   ]
  },
  {
   "cell_type": "code",
   "execution_count": null,
   "id": "16f55fa1",
   "metadata": {},
   "outputs": [],
   "source": [
    "# round floats to integers because decimal places are not sensitive enough to mean significance\n",
    "# example: BMI of 29.24107, a 0.24107 BMI would not determine a person's BMI level on its own\n",
    "\n",
    "copd['BMI'] = copd['BMI'].apply(round_nan)\n",
    "copd['BloodPressureDiastolicNBR'] = copd['BloodPressureDiastolicNBR'].apply(round_nan)\n",
    "copd['BloodPressureSystolicNBR'] = copd['BloodPressureSystolicNBR'].apply(round_nan)"
   ]
  },
  {
   "cell_type": "code",
   "execution_count": null,
   "id": "dc3138f5",
   "metadata": {},
   "outputs": [],
   "source": [
    "# I am considering transforming this to an ordinal value where there would be 10 values to regress to\n",
    "# 0-9 = 0, 10-19 = 1, 20-29 = 2, 30-39 = 3, 40-49 = 4 ... 90-100 = 10\n",
    "target = copd['FEV1FVC_PRE']"
   ]
  },
  {
   "cell_type": "code",
   "execution_count": null,
   "id": "927bb68a",
   "metadata": {},
   "outputs": [],
   "source": [
    "# get count of unique values of each column and remove low cardinality columns that would not help with the training\n",
    "low_cardinality = []\n",
    "\n",
    "for i in range(copd.shape[1]):\n",
    "    if copd.iloc[:,i].nunique() < 2:\n",
    "        low_cardinality.append(copd.columns[i])\n",
    "        #print(copd.columns[i], ' unique values = ', copd.iloc[:,i].nunique(),'\\n')\n",
    "        \n",
    "# print(low_cardinality)\n",
    "copd.drop(low_cardinality, axis=1, inplace=True)"
   ]
  },
  {
   "cell_type": "code",
   "execution_count": null,
   "id": "55db1e8d",
   "metadata": {},
   "outputs": [],
   "source": []
  },
  {
   "cell_type": "code",
   "execution_count": null,
   "id": "1787c696",
   "metadata": {},
   "outputs": [],
   "source": [
    "# split the data into training, validation, and final model evaluation\n",
    "# 70% train, 20% validation, 10% final model evaluation\n",
    "# there are 4,783 rows of data\n",
    "classification_trainer = hai.SupervisedModelTrainer(\n",
    "          dataframe = copd\n",
    "        , predicted_column = 'FEV1FVC_PRE'\n",
    "        , model_type = 'regression'\n",
    "        , grain_column = 'MRN'\n",
    "        , impute = True\n",
    "        , imputeStrategy = 'RandomForest'\n",
    "        , verbose = True\n",
    ")"
   ]
  },
  {
   "cell_type": "code",
   "execution_count": null,
   "id": "b37dc4a9",
   "metadata": {},
   "outputs": [],
   "source": [
    "rfr = classification_trainer.random_forest_regression()"
   ]
  },
  {
   "cell_type": "code",
   "execution_count": null,
   "id": "6b318e41",
   "metadata": {},
   "outputs": [],
   "source": [
    "print(rfr.metrics)"
   ]
  },
  {
   "cell_type": "code",
   "execution_count": null,
   "id": "cd1605c4",
   "metadata": {},
   "outputs": [],
   "source": []
  }
 ],
 "metadata": {
  "kernelspec": {
   "display_name": "Python 3 (ipykernel)",
   "language": "python",
   "name": "python3"
  },
  "language_info": {
   "codemirror_mode": {
    "name": "ipython",
    "version": 3
   },
   "file_extension": ".py",
   "mimetype": "text/x-python",
   "name": "python",
   "nbconvert_exporter": "python",
   "pygments_lexer": "ipython3",
   "version": "3.9.7"
  }
 },
 "nbformat": 4,
 "nbformat_minor": 5
}
